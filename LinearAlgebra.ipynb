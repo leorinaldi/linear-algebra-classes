{
 "cells": [
  {
   "cell_type": "code",
   "execution_count": 3706,
   "metadata": {
    "collapsed": true
   },
   "outputs": [],
   "source": [
    "import numpy as np"
   ]
  },
  {
   "cell_type": "code",
   "execution_count": null,
   "metadata": {
    "collapsed": true
   },
   "outputs": [],
   "source": []
  },
  {
   "cell_type": "code",
   "execution_count": 3707,
   "metadata": {
    "collapsed": true
   },
   "outputs": [],
   "source": [
    "A=np.array([\n",
    "    [1,1,2],\n",
    "    [3,5,8]\n",
    "])"
   ]
  },
  {
   "cell_type": "code",
   "execution_count": 3708,
   "metadata": {
    "collapsed": true
   },
   "outputs": [],
   "source": [
    "B=np.array([\n",
    "    [2,3,5],\n",
    "    [7,11,13]\n",
    "])"
   ]
  },
  {
   "cell_type": "code",
   "execution_count": 3709,
   "metadata": {
    "collapsed": false
   },
   "outputs": [
    {
     "name": "stdout",
     "output_type": "stream",
     "text": [
      "[[ 3  4  7]\n",
      " [10 16 21]]\n"
     ]
    }
   ],
   "source": [
    "print (A+B)"
   ]
  },
  {
   "cell_type": "code",
   "execution_count": 3710,
   "metadata": {
    "collapsed": true
   },
   "outputs": [],
   "source": [
    "A=np.array([\n",
    "    [1,2],\n",
    "    [0,1]\n",
    "])"
   ]
  },
  {
   "cell_type": "code",
   "execution_count": 3711,
   "metadata": {
    "collapsed": true
   },
   "outputs": [],
   "source": [
    "B=np.array([\n",
    "    [0,2],\n",
    "])"
   ]
  },
  {
   "cell_type": "code",
   "execution_count": 3712,
   "metadata": {
    "collapsed": false
   },
   "outputs": [
    {
     "name": "stdout",
     "output_type": "stream",
     "text": [
      "A*B= [[0 4]\n",
      " [0 2]]\n"
     ]
    }
   ],
   "source": [
    "print (\"A*B=\",A*B)"
   ]
  },
  {
   "cell_type": "code",
   "execution_count": 3713,
   "metadata": {
    "collapsed": true
   },
   "outputs": [],
   "source": [
    "# Lesson 2 elimination with matrices\n",
    "# suppose you start with the following array\n",
    "# x+2y+z=2\n",
    "# 3x+8y+z=12\n",
    "# 4y+z=2\n",
    "# note the array of coefficients is called A\n",
    "# note the last column is also called b"
   ]
  },
  {
   "cell_type": "code",
   "execution_count": 3714,
   "metadata": {
    "collapsed": true
   },
   "outputs": [],
   "source": [
    "A=np.array([\n",
    "    [1,2,1],\n",
    "    [3,8,1],\n",
    "    [0,4,1]\n",
    "])"
   ]
  },
  {
   "cell_type": "code",
   "execution_count": 3715,
   "metadata": {
    "collapsed": true
   },
   "outputs": [],
   "source": [
    "Ab=np.array([\n",
    "    [1,2,1,2],\n",
    "    [3,8,1,12],\n",
    "    [0,4,1,2]\n",
    "])"
   ]
  },
  {
   "cell_type": "code",
   "execution_count": 3716,
   "metadata": {
    "collapsed": true
   },
   "outputs": [],
   "source": [
    "# eliminate the x\n",
    "# find the first x coefficient\n",
    "xcoef1=Ab[0,0]"
   ]
  },
  {
   "cell_type": "code",
   "execution_count": 3717,
   "metadata": {
    "collapsed": false
   },
   "outputs": [
    {
     "name": "stdout",
     "output_type": "stream",
     "text": [
      "1\n"
     ]
    }
   ],
   "source": [
    "print(xcoef1)"
   ]
  },
  {
   "cell_type": "code",
   "execution_count": 3718,
   "metadata": {
    "collapsed": true
   },
   "outputs": [],
   "source": [
    "# first make the first row xcoef and the second equal\n",
    "# by multiplying the first row by something\n",
    "# so find the multiple...\n",
    "xmultiple=Ab[1,0]/Ab[0,0]"
   ]
  },
  {
   "cell_type": "code",
   "execution_count": 3719,
   "metadata": {
    "collapsed": false
   },
   "outputs": [
    {
     "name": "stdout",
     "output_type": "stream",
     "text": [
      "3.0\n"
     ]
    }
   ],
   "source": [
    "print(xmultiple)"
   ]
  },
  {
   "cell_type": "code",
   "execution_count": 3720,
   "metadata": {
    "collapsed": false
   },
   "outputs": [
    {
     "name": "stdout",
     "output_type": "stream",
     "text": [
      "[ 3.  6.  3.  6.]\n"
     ]
    }
   ],
   "source": [
    "# ...and then multiply first row by it\n",
    "row1=Ab[0,0:4]\n",
    "row2=Ab[1,0:4]\n",
    "row3=Ab[2,0:4]\n",
    "xrow1=xmultiple*row1\n",
    "print (xrow1)"
   ]
  },
  {
   "cell_type": "code",
   "execution_count": 3721,
   "metadata": {
    "collapsed": false
   },
   "outputs": [
    {
     "name": "stdout",
     "output_type": "stream",
     "text": [
      "[ 0.  2. -2.  6.]\n"
     ]
    }
   ],
   "source": [
    "# ...and then subtract first row from the second\n",
    "newrow2=row2-xrow1\n",
    "print(newrow2)"
   ]
  },
  {
   "cell_type": "code",
   "execution_count": 3722,
   "metadata": {
    "collapsed": false
   },
   "outputs": [
    {
     "name": "stdout",
     "output_type": "stream",
     "text": [
      "[[ 1.  2.  1.  2.]\n",
      " [ 0.  2. -2.  6.]\n",
      " [ 0.  4.  1.  2.]]\n"
     ]
    }
   ],
   "source": [
    "# ...now you have your new matrix\n",
    "A2=np.array([\n",
    "    row1,newrow2,row3\n",
    "])\n",
    "print (A2)"
   ]
  },
  {
   "cell_type": "code",
   "execution_count": 3723,
   "metadata": {
    "collapsed": true
   },
   "outputs": [],
   "source": [
    "# you would normally need to do the same thing \n",
    "# to get a zero for x in the third row but in this case\n",
    "# it is already zero"
   ]
  },
  {
   "cell_type": "code",
   "execution_count": 3724,
   "metadata": {
    "collapsed": false
   },
   "outputs": [
    {
     "name": "stdout",
     "output_type": "stream",
     "text": [
      "2.0\n"
     ]
    }
   ],
   "source": [
    "# now we will \"zero out\" the y in the third row by finding the required multiple of second\n",
    "ymultiple=A2[2,1]/A2[1,1]\n",
    "print (ymultiple)"
   ]
  },
  {
   "cell_type": "code",
   "execution_count": 3725,
   "metadata": {
    "collapsed": false
   },
   "outputs": [
    {
     "name": "stdout",
     "output_type": "stream",
     "text": [
      "[ 1.  2.  1.  2.]\n",
      "[ 0.  2. -2.  6.]\n",
      "[ 0.  4.  1.  2.]\n"
     ]
    }
   ],
   "source": [
    "# ...and then multiplying second row by it\n",
    "row1=A2[0,0:4]\n",
    "row2=A2[1,0:4]\n",
    "row3=A2[2,0:4]\n",
    "print(row1)\n",
    "print(row2)\n",
    "print(row3)"
   ]
  },
  {
   "cell_type": "code",
   "execution_count": 3726,
   "metadata": {
    "collapsed": false
   },
   "outputs": [
    {
     "name": "stdout",
     "output_type": "stream",
     "text": [
      "[  0.   4.  -4.  12.]\n"
     ]
    }
   ],
   "source": [
    "yrow2=ymultiple*row2\n",
    "print (yrow2)"
   ]
  },
  {
   "cell_type": "code",
   "execution_count": 3727,
   "metadata": {
    "collapsed": false
   },
   "outputs": [
    {
     "name": "stdout",
     "output_type": "stream",
     "text": [
      "[  0.   0.   5. -10.]\n"
     ]
    }
   ],
   "source": [
    "# ...and then subtracting second row from the third\n",
    "newrow3=row3-yrow2\n",
    "print(newrow3)"
   ]
  },
  {
   "cell_type": "code",
   "execution_count": 3728,
   "metadata": {
    "collapsed": false
   },
   "outputs": [
    {
     "name": "stdout",
     "output_type": "stream",
     "text": [
      "[[  1.   2.   1.   2.]\n",
      " [  0.   2.  -2.   6.]\n",
      " [  0.   0.   5. -10.]]\n"
     ]
    }
   ],
   "source": [
    "# ...now you have your new matrix\n",
    "# note that the new x, y, z array below is also called U\n",
    "# note that the last column is also called c\n",
    "A3=np.array([\n",
    "    row1,row2,newrow3\n",
    "])\n",
    "print(A3)"
   ]
  },
  {
   "cell_type": "code",
   "execution_count": 3729,
   "metadata": {
    "collapsed": false
   },
   "outputs": [
    {
     "name": "stdout",
     "output_type": "stream",
     "text": [
      "[ 1.  2.  5.]\n"
     ]
    }
   ],
   "source": [
    "# now we have the three pivots\n",
    "pivots=np.array([\n",
    "    A3[0,0],A3[1,1],A3[2,2]\n",
    "])\n",
    "print (pivots)"
   ]
  },
  {
   "cell_type": "code",
   "execution_count": 3730,
   "metadata": {
    "collapsed": false
   },
   "outputs": [
    {
     "name": "stdout",
     "output_type": "stream",
     "text": [
      "10.0\n"
     ]
    }
   ],
   "source": [
    "# determinant of the matrix\n",
    "determinant=pivots[0]*pivots[1]*pivots[2]\n",
    "print(determinant)"
   ]
  },
  {
   "cell_type": "code",
   "execution_count": 3731,
   "metadata": {
    "collapsed": false
   },
   "outputs": [
    {
     "name": "stdout",
     "output_type": "stream",
     "text": [
      "-2.0\n"
     ]
    }
   ],
   "source": [
    "# we can also BACK SUBSTITUTE to find our answer\n",
    "# solve for z first\n",
    "z=A3[2,3]/A3[2,2]\n",
    "print (z)"
   ]
  },
  {
   "cell_type": "code",
   "execution_count": 3732,
   "metadata": {
    "collapsed": false
   },
   "outputs": [
    {
     "name": "stdout",
     "output_type": "stream",
     "text": [
      "1.0\n"
     ]
    }
   ],
   "source": [
    "# solve for y next\n",
    "y=(A3[1,3]-A3[1,2]*z)/A3[1,1]\n",
    "print(y)"
   ]
  },
  {
   "cell_type": "code",
   "execution_count": 3733,
   "metadata": {
    "collapsed": false
   },
   "outputs": [
    {
     "name": "stdout",
     "output_type": "stream",
     "text": [
      "2.0\n"
     ]
    }
   ],
   "source": [
    "# solve for x last\n",
    "x=(A3[0,3]-A3[0,2]*z-A3[0,1]*y)/A3[0,0]\n",
    "print(x)"
   ]
  },
  {
   "cell_type": "code",
   "execution_count": 3734,
   "metadata": {
    "collapsed": false
   },
   "outputs": [
    {
     "name": "stdout",
     "output_type": "stream",
     "text": [
      "[[1 0 0]\n",
      " [0 1 0]\n",
      " [0 0 1]]\n"
     ]
    }
   ],
   "source": [
    "# identity matrix\n",
    "# note we have switched to \"np.matrix\" from \"array\"\n",
    "# the reason is that matrix multiplication acts differently\n",
    "I=np.matrix([\n",
    "    [1,0,0],\n",
    "    [0,1,0],\n",
    "    [0,0,1]\n",
    "])\n",
    "print(I)"
   ]
  },
  {
   "cell_type": "code",
   "execution_count": 3735,
   "metadata": {
    "collapsed": false
   },
   "outputs": [
    {
     "name": "stdout",
     "output_type": "stream",
     "text": [
      "[[1 0 0]\n",
      " [0 1 0]\n",
      " [0 0 1]]\n",
      "[[1 2 1]\n",
      " [3 8 1]\n",
      " [0 4 1]]\n",
      "[[1 2 1]\n",
      " [3 8 1]\n",
      " [0 4 1]]\n"
     ]
    }
   ],
   "source": [
    "# show that identity matrix times a matrix gives you that\n",
    "# there seems a discrepancy here to me vs what he says in lecture\n",
    "# doesn't give you the same matrix\n",
    "print(I)\n",
    "print(A)\n",
    "print(I*A)"
   ]
  },
  {
   "cell_type": "code",
   "execution_count": 3736,
   "metadata": {
    "collapsed": true
   },
   "outputs": [],
   "source": [
    "# let's try something smaller to get a feel...\n",
    "# ...a 2x2 multiplication\n",
    "littleI=np.matrix([\n",
    "    [1,0],\n",
    "    [0,1]\n",
    "])\n",
    "littleA=np.array([\n",
    "    [3,4],\n",
    "    [5,6]\n",
    "])"
   ]
  },
  {
   "cell_type": "code",
   "execution_count": 3737,
   "metadata": {
    "collapsed": false
   },
   "outputs": [
    {
     "name": "stdout",
     "output_type": "stream",
     "text": [
      "[[1 0]\n",
      " [0 1]]\n",
      "[[3 4]\n",
      " [5 6]]\n"
     ]
    }
   ],
   "source": [
    "print(littleI)\n",
    "print(littleA)"
   ]
  },
  {
   "cell_type": "code",
   "execution_count": 3738,
   "metadata": {
    "collapsed": false
   },
   "outputs": [
    {
     "name": "stdout",
     "output_type": "stream",
     "text": [
      "[[3 4]\n",
      " [5 6]]\n"
     ]
    }
   ],
   "source": [
    "print(littleI*littleA)"
   ]
  },
  {
   "cell_type": "code",
   "execution_count": 3739,
   "metadata": {
    "collapsed": false
   },
   "outputs": [
    {
     "name": "stdout",
     "output_type": "stream",
     "text": [
      "[[3 4]\n",
      " [5 6]]\n"
     ]
    }
   ],
   "source": [
    "print(littleA*littleI)"
   ]
  },
  {
   "cell_type": "code",
   "execution_count": 3740,
   "metadata": {
    "collapsed": false
   },
   "outputs": [
    {
     "name": "stdout",
     "output_type": "stream",
     "text": [
      "[[1 1]]\n"
     ]
    }
   ],
   "source": [
    "smallerI=np.matrix([1,1])\n",
    "print(smallerI)"
   ]
  },
  {
   "cell_type": "code",
   "execution_count": 3741,
   "metadata": {
    "collapsed": false
   },
   "outputs": [
    {
     "name": "stdout",
     "output_type": "stream",
     "text": [
      "[[ 8 10]]\n"
     ]
    }
   ],
   "source": [
    "print(smallerI*littleA)"
   ]
  },
  {
   "cell_type": "code",
   "execution_count": 3742,
   "metadata": {
    "collapsed": true
   },
   "outputs": [],
   "source": [
    "# now we want to see our elimination approach\n",
    "# using matrix multiplication"
   ]
  },
  {
   "cell_type": "code",
   "execution_count": 3743,
   "metadata": {
    "collapsed": false
   },
   "outputs": [
    {
     "name": "stdout",
     "output_type": "stream",
     "text": [
      "[[ 1.  0.  0.]\n",
      " [-3.  1.  0.]\n",
      " [ 0.  0.  1.]]\n"
     ]
    }
   ],
   "source": [
    "# matrix to multiply against A\n",
    "# first based on the calc above\n",
    "# used to isolate x\n",
    "# the reason this works is you are multiplying row 1 times \n",
    "# the multiplier you found earlier and adding that to row 2\n",
    "# to create the new row2\n",
    "# this is known as E2,1 for the position of the eliminator\n",
    "EliminateX=np.matrix([\n",
    "    [1,0,0],\n",
    "    [-xmultiple,1,0],\n",
    "    [0,0,1]\n",
    "])\n",
    "print(EliminateX)"
   ]
  },
  {
   "cell_type": "code",
   "execution_count": 3744,
   "metadata": {
    "collapsed": false
   },
   "outputs": [
    {
     "name": "stdout",
     "output_type": "stream",
     "text": [
      "[[ 1.  2.  1.  2.]\n",
      " [ 0.  2. -2.  6.]\n",
      " [ 0.  4.  1.  2.]]\n"
     ]
    }
   ],
   "source": [
    "A2=EliminateX*Ab\n",
    "print(A2)"
   ]
  },
  {
   "cell_type": "code",
   "execution_count": 3745,
   "metadata": {
    "collapsed": false
   },
   "outputs": [
    {
     "name": "stdout",
     "output_type": "stream",
     "text": [
      "[[ 1.  0.  0.]\n",
      " [ 0.  1.  0.]\n",
      " [ 0. -2.  1.]]\n"
     ]
    }
   ],
   "source": [
    "# now create E3,2\n",
    "EliminateY=np.matrix([\n",
    "    [1,0,0],\n",
    "    [0,1,0],\n",
    "    [0,-ymultiple,1]\n",
    "])\n",
    "print(EliminateY)"
   ]
  },
  {
   "cell_type": "code",
   "execution_count": 3746,
   "metadata": {
    "collapsed": false
   },
   "outputs": [
    {
     "name": "stdout",
     "output_type": "stream",
     "text": [
      "[[  1.   2.   1.   2.]\n",
      " [  0.   2.  -2.   6.]\n",
      " [  0.   0.   5. -10.]]\n"
     ]
    }
   ],
   "source": [
    "A3=EliminateY*A2\n",
    "print(A3)"
   ]
  },
  {
   "cell_type": "code",
   "execution_count": 3747,
   "metadata": {
    "collapsed": false
   },
   "outputs": [
    {
     "name": "stdout",
     "output_type": "stream",
     "text": [
      "[[1 2]\n",
      " [3 4]]\n",
      "[[5 6]\n",
      " [7 8]]\n"
     ]
    }
   ],
   "source": [
    "# Lecture 3: Multiplication and inverse matrices\n",
    "# starts by reviewing an example of Matrix A * B = C\n",
    "# Then to review that C1,2 equals sumproduct A row 1 times B col 2\n",
    "# Let's create two simple arrays\n",
    "A=np.array([\n",
    "    [1,2],\n",
    "    [3,4]\n",
    "])\n",
    "B=np.array([\n",
    "    [5,6],\n",
    "    [7,8]\n",
    "])\n",
    "print(A)\n",
    "print(B)"
   ]
  },
  {
   "cell_type": "code",
   "execution_count": 3748,
   "metadata": {
    "collapsed": false
   },
   "outputs": [
    {
     "name": "stdout",
     "output_type": "stream",
     "text": [
      "sum: 0\n",
      "x is counter of items in A,a: 1\n",
      "y is row in B,b: 0\n",
      "B[y,b] is item in B: 5\n",
      "sum: 5\n",
      "x is counter of items in A,a: 2\n",
      "y is row in B,b: 1\n",
      "B[y,b] is item in B: 6\n",
      "final sum: 19\n"
     ]
    }
   ],
   "source": [
    "# Let's manually find C1,1...or for C(a-1),(b-1)\n",
    "#...since rows and columns start at zero in formulas\n",
    "\n",
    "a=0 # represents row to multiply for A\n",
    "b=0 # represents col to multiply for B\n",
    "y=0 # represents counter for B row\n",
    "sum=0\n",
    "for x in A[a]: # will cycle through each num in A row a\n",
    "    print(\"sum:\",sum)\n",
    "    print(\"x is counter of items in A,a:\",x)\n",
    "    print(\"y is row in B,b:\",y)\n",
    "    print(\"B[y,b] is item in B:\",B[b,y])\n",
    "    sum+=x*B[y,b] # selected A row num times B row num\n",
    "    y+=1 #increments the B row\n",
    "print(\"final sum:\",sum)"
   ]
  },
  {
   "cell_type": "code",
   "execution_count": 3749,
   "metadata": {
    "collapsed": true
   },
   "outputs": [],
   "source": [
    "# to multiply matrices you need to have\n",
    "# same columns in first as rows in second"
   ]
  },
  {
   "cell_type": "code",
   "execution_count": 3750,
   "metadata": {
    "collapsed": false
   },
   "outputs": [
    {
     "name": "stdout",
     "output_type": "stream",
     "text": [
      "[[2]\n",
      " [3]\n",
      " [4]]\n",
      "[[1 6]]\n",
      "[[ 2 12]\n",
      " [ 3 18]\n",
      " [ 4 24]]\n"
     ]
    }
   ],
   "source": [
    "# what happens if you multiply a column times a row\n",
    "# do you get a full matrix...yes\n",
    "A=np.matrix([\n",
    "    [2],\n",
    "    [3],\n",
    "    [4]\n",
    "])\n",
    "B=np.matrix([\n",
    "    [1,6]\n",
    "])\n",
    "print(A)\n",
    "print(B)\n",
    "print(A*B)"
   ]
  },
  {
   "cell_type": "code",
   "execution_count": 3751,
   "metadata": {
    "collapsed": false
   },
   "outputs": [
    {
     "name": "stdout",
     "output_type": "stream",
     "text": [
      "[[1 3]\n",
      " [2 6]]\n",
      "[[ 3  9]\n",
      " [-2 -6]]\n"
     ]
    }
   ],
   "source": [
    "# What is an inverse?\n",
    "# If A^(-1)*A=I (Identity matrix)\n",
    "# Let's start with a non-invertable situation\n",
    "# That occurs if you can multiply A times something and get zero\n",
    "A=np.array([\n",
    "    [1,3],\n",
    "    [2,6]\n",
    "])\n",
    "print(A)\n",
    "B=np.array([\n",
    "    [3],\n",
    "    [-1]\n",
    "])\n",
    "print(A*B)"
   ]
  },
  {
   "cell_type": "code",
   "execution_count": 3752,
   "metadata": {
    "collapsed": false
   },
   "outputs": [
    {
     "name": "stdout",
     "output_type": "stream",
     "text": [
      "[[1 3 1 0]\n",
      " [2 7 0 1]]\n"
     ]
    }
   ],
   "source": [
    "# OK let's make an inverse\n",
    "# Find the inverse of A\n",
    "A=np.array([\n",
    "    [1,3],\n",
    "    [2,7]\n",
    "])\n",
    "# Now we set this up equaling the identity...\n",
    "AI=np.array([\n",
    "    [1,3,1,0],\n",
    "    [2,7,0,1]\n",
    "])\n",
    "print(AI)"
   ]
  },
  {
   "cell_type": "code",
   "execution_count": 3753,
   "metadata": {
    "collapsed": false
   },
   "outputs": [
    {
     "name": "stdout",
     "output_type": "stream",
     "text": [
      "[ 0.  1. -2.  1.]\n",
      "[[ 1.  3.  1.  0.]\n",
      " [ 0.  1. -2.  1.]]\n"
     ]
    }
   ],
   "source": [
    "#...Now we eliminate x first\n",
    "\n",
    "# old code that worked\n",
    "# A2=np.array([\n",
    "#     row1,newrow2,row3\n",
    "# ])\n",
    "# print (A2)\n",
    "\n",
    "# find the multiple that you will multiply by\n",
    "xmultiple=(AI[1,0]/AI[0,0])\n",
    "\n",
    "# make the rows variable so we can reconstruct the matrix\n",
    "row1=AI[0]\n",
    "row2=AI[1]\n",
    "newrowx=row2-xmultiple*row1\n",
    "print(newrowx)\n",
    "\n",
    "# reconstruct the array\n",
    "newarray=np.matrix([\n",
    "    row1, newrowx\n",
    "])\n",
    "print(newarray)"
   ]
  },
  {
   "cell_type": "code",
   "execution_count": 3754,
   "metadata": {
    "collapsed": false
   },
   "outputs": [
    {
     "name": "stdout",
     "output_type": "stream",
     "text": [
      "3.0\n",
      "[ 1.  0.  7. -3.]\n"
     ]
    }
   ],
   "source": [
    "# Next we clean out the y up top\n",
    "ymultiple=newarray[0,1]/newarray[1,1]\n",
    "print(ymultiple)\n",
    "newrowy=row1-ymultiple*newrowx\n",
    "print(newrowy)"
   ]
  },
  {
   "cell_type": "code",
   "execution_count": 3755,
   "metadata": {
    "collapsed": false
   },
   "outputs": [
    {
     "name": "stdout",
     "output_type": "stream",
     "text": [
      "[[ 1.  0.  7. -3.]\n",
      " [ 0.  1. -2.  1.]]\n"
     ]
    }
   ],
   "source": [
    "# so we have our final matrix\n",
    "# the right hand side is now the inverse\n",
    "inverse=np.array([\n",
    "    newrowy,newrowx\n",
    "])\n",
    "print(inverse)"
   ]
  },
  {
   "cell_type": "code",
   "execution_count": 3756,
   "metadata": {
    "collapsed": true
   },
   "outputs": [],
   "source": [
    "# Lecture 4: Factorization into A=LU\n",
    "# How do I get the inverse of AB?\n",
    "# AB(B^-1*A^-1)=I...why?\n",
    "# Move parentheses and get (B*B^-1) in middle or identity\n",
    "# So you inverse the order (AB)*BinverseAinverse\n",
    "# remember you can't just move multipliers around but can move parentheses"
   ]
  },
  {
   "cell_type": "code",
   "execution_count": 3757,
   "metadata": {
    "collapsed": true
   },
   "outputs": [],
   "source": [
    "# Also you can transpose the inverse or vice versa"
   ]
  },
  {
   "cell_type": "code",
   "execution_count": 3758,
   "metadata": {
    "collapsed": false
   },
   "outputs": [
    {
     "name": "stdout",
     "output_type": "stream",
     "text": [
      "[[ 2.  1.]\n",
      " [ 8.  7.]]\n"
     ]
    }
   ],
   "source": [
    "# an example of A=LU\n",
    "# start with A\n",
    "\n",
    "A=np.matrix([\n",
    "    [2,1],\n",
    "    [8,7]\n",
    "])\n",
    "\n",
    "# -4 will clear out x on bottom\n",
    "Eliminatex=np.matrix([\n",
    "    [1,0],\n",
    "    [-4,1]\n",
    "])\n",
    "\n",
    "# Eliminatex*A gives you the following on the other side of equation\n",
    "# U stands for upper triangle\n",
    "Upper=np.matrix([\n",
    "    [2,1],\n",
    "    [0,3]\n",
    "])\n",
    "\n",
    "# you can isolate A by bringing positive 4 to the other side of equation\n",
    "# L stands for lower triangle\n",
    "Lower=np.matrix([\n",
    "    [1,0],\n",
    "    [4,1]\n",
    "])\n",
    "\n",
    "# You can factor U into the following\n",
    "Ufactor1=np.matrix([\n",
    "    [2,0],\n",
    "    [0,3]\n",
    "])\n",
    "Ufactor2=np.matrix([\n",
    "    [1,0.5],\n",
    "    [0,1]\n",
    "])\n",
    "\n",
    "# so now you have A=L*U\n",
    "# confirm A is the same as beginning\n",
    "A=Lower*Ufactor1*Ufactor2\n",
    "print(A)"
   ]
  },
  {
   "cell_type": "code",
   "execution_count": 3759,
   "metadata": {
    "collapsed": true
   },
   "outputs": [],
   "source": [
    "# factoring a 3x3\n",
    "# remember first term is eliminate x in 2,1 position, and so on\n",
    "# E32*E31*E21A=U\n",
    "# But we just want A on the left, so need inverses on right\n",
    "# Remember opposite order\n",
    "# A=(E21^-1)*(E31^-1)*(E32^-1)*U\n",
    "# Those terms for L, so A=LU"
   ]
  },
  {
   "cell_type": "code",
   "execution_count": 3760,
   "metadata": {
    "collapsed": true
   },
   "outputs": [],
   "source": [
    "# What is the processing cost of elimination?\n",
    "# For nxn rows and cols, you're doing roughly nxn ops to eliminate x from all rows\n",
    "# This is because each row you're doing something to all nums (multiply then subtract)\n",
    "# Then you have to eliminate y in the next column, but one row down and so on\n",
    "# This gives you n^squared + (n-1)^2....1^2\n",
    "# We know this equation is something less than n^3\n",
    "# Calculus tells us its 1/3*N^3\n",
    "# Then you have the b column; processing this turns out to be n^2\n",
    "# So total cost to process nxn is roughly 1/3N^3+N^2"
   ]
  },
  {
   "cell_type": "code",
   "execution_count": 3761,
   "metadata": {
    "collapsed": false
   },
   "outputs": [
    {
     "name": "stdout",
     "output_type": "stream",
     "text": [
      "[[0 1 0]\n",
      " [1 0 0]\n",
      " [0 0 1]]\n"
     ]
    }
   ],
   "source": [
    "# Transposes and permutation\n",
    "# When a zero shows up in pivot position, need to do row exchanges\n",
    "# Starting with identity matrix, there are 6 permutations (3x2x1)...which is n! (factorial)\n",
    "# P123, then P213, then P312, and so on\n",
    "# Example of P213 below\n",
    "P=np.array([\n",
    "    [0,1,0],\n",
    "    [1,0,0],\n",
    "    [0,0,1]\n",
    "])\n",
    "print(P)"
   ]
  },
  {
   "cell_type": "code",
   "execution_count": 3762,
   "metadata": {
    "collapsed": false
   },
   "outputs": [
    {
     "name": "stdout",
     "output_type": "stream",
     "text": [
      "[[0 1 0]\n",
      " [1 0 0]\n",
      " [0 0 1]]\n"
     ]
    }
   ],
   "source": [
    "# The inverse (P^-1) of a Permutation matrix is the transpose (PT)\n",
    "# Taking the above, let's find the transpose\n",
    "Transpose=np.array([\n",
    "    [P[0,0],P[1,0],P[2,0]],\n",
    "    [P[1,0],P[1,1],P[1,2]],\n",
    "    [P[2,0],P[2,1],P[2,2]]\n",
    "])\n",
    "print (Transpose)"
   ]
  },
  {
   "cell_type": "code",
   "execution_count": 3763,
   "metadata": {
    "collapsed": false
   },
   "outputs": [
    {
     "name": "stdout",
     "output_type": "stream",
     "text": [
      "[[1 0 0]\n",
      " [0 1 0]\n",
      " [0 0 1]]\n"
     ]
    }
   ],
   "source": [
    "# prove the inverse is the transpose\n",
    "# multiply one by the other, see if you get identity\n",
    "Result=np.dot(P,Transpose,out=None)\n",
    "print(Result)"
   ]
  },
  {
   "cell_type": "code",
   "execution_count": 3764,
   "metadata": {
    "collapsed": true
   },
   "outputs": [],
   "source": [
    "# Lecture 5: Transposes, permutations, spaces R^n\n",
    "# Reminder A=LU\n",
    "# Reminder L has 1s on diagonal, zeros above, numbers below\n",
    "# Reminder U has 1s on diagonal, zeros below, numbers above\n",
    "# Then the description with row exchanges is PA=LU...\n",
    "#....Where P is the permutation\n",
    "# P=identity matrix with reordered rows"
   ]
  },
  {
   "cell_type": "code",
   "execution_count": 3765,
   "metadata": {
    "collapsed": true
   },
   "outputs": [],
   "source": [
    "# Transposes\n",
    "# for any (AT)ij, it becomes Aji"
   ]
  },
  {
   "cell_type": "code",
   "execution_count": 3766,
   "metadata": {
    "collapsed": true
   },
   "outputs": [],
   "source": [
    "# Symmetric matrices\n",
    "# AT=A - is its own transpose\n",
    "# Pattern of symmetrical matrix is the diagonals can be anything...\n",
    "# ...but numbers surrounding them appear twice in a certain order\n",
    "# Example below\n",
    "Symmetric=np.array([\n",
    "    [3,1,7],\n",
    "    [1,2,9],\n",
    "    [7,9,4]\n",
    "])"
   ]
  },
  {
   "cell_type": "code",
   "execution_count": 3767,
   "metadata": {
    "collapsed": false
   },
   "outputs": [
    {
     "name": "stdout",
     "output_type": "stream",
     "text": [
      "[[ 68.  58.]\n",
      " [ 58.  50.]]\n"
     ]
    }
   ],
   "source": [
    "# Multiply a matrix times its transpose and its symmetric\n",
    "# RT*R is always symmetric\n",
    "# Try it below with the matrix up above, see if it comes out symmetric\n",
    "Symproduct=np.transpose(A)*A\n",
    "print(Symproduct)"
   ]
  },
  {
   "cell_type": "code",
   "execution_count": 3768,
   "metadata": {
    "collapsed": true
   },
   "outputs": [],
   "source": [
    "# Rule for transposes - the order gets reversed and then transpose them\n",
    "# (RT*R)^T = RT*RTT...double transpose equals the number again, so =RT*R again"
   ]
  },
  {
   "cell_type": "code",
   "execution_count": 3769,
   "metadata": {
    "collapsed": true
   },
   "outputs": [],
   "source": [
    "# VECTORS\n",
    "# Example operations: we need to add vectors, or multiply them (scaling them)\n",
    "# The vector space allows us to do this\n",
    "# R^2 means what? Two real numbers...[[3],[2]] for example, or pi and e\n",
    "# add 2 vectors, just add their components...\n",
    "# so you would get 3+pi, 2+e for example above\n",
    "# You can do R^3 for three components/dimensions...[[3],[2],[0]]"
   ]
  },
  {
   "cell_type": "code",
   "execution_count": 3770,
   "metadata": {
    "collapsed": true
   },
   "outputs": [],
   "source": [
    "# Defining vector space\n",
    "# For case of R^2, you want vector space inside R^2\n",
    "# Picture x and y axis...what are subspaces of R^2\n",
    "# 1. Could be all of R^2 plane\n",
    "# 2. Could be any line through origin (could call it L)\n",
    "# 3. Could be origin - zero vector only (could call it Z)\n"
   ]
  },
  {
   "cell_type": "code",
   "execution_count": 3771,
   "metadata": {
    "collapsed": true
   },
   "outputs": [],
   "source": [
    "# Start with an R3 example\n",
    "A=np.array([\n",
    "    [1,3],\n",
    "    [2,3],\n",
    "    [4,1]\n",
    "])\n",
    "# All their combinations are in the subspace - called column space C(A)\n",
    "# You get a plane because you have 2 lines (1,2,4) and (3,3,1)...\n",
    "# and every combination thereof, with the plane going through origin"
   ]
  },
  {
   "cell_type": "code",
   "execution_count": 3772,
   "metadata": {
    "collapsed": true
   },
   "outputs": [],
   "source": [
    "# Lecture 6: Column space and nullspace\n",
    "# Reminder: A vector space is where we can...\n",
    "#...add or multiply the vectors and stay in the space\n",
    "# R^3 example: a plane through zero is a subspace of all R^3"
   ]
  },
  {
   "cell_type": "code",
   "execution_count": 3773,
   "metadata": {
    "collapsed": true
   },
   "outputs": [],
   "source": [
    "# Suppose you have to subspaces P and L\n",
    "# is the union (P U L) a subspace? Answer no.\n",
    "# Why? Because combining elements of each will take you outside the subspace\n",
    "# Is intersection of P and L a subspace? Yes\n",
    "# Why? If we take the combination of those vectors they'll stay in that subspace"
   ]
  },
  {
   "cell_type": "code",
   "execution_count": 3774,
   "metadata": {
    "collapsed": true
   },
   "outputs": [],
   "source": [
    "# Column space of a matrix\n",
    "A=np.array([\n",
    "    [1,1,2],\n",
    "    [2,1,3],\n",
    "    [3,1,4],\n",
    "    [4,1,5]\n",
    "])\n",
    "# We are in R^4 now; \n",
    "# A is a subspace of R^4\n",
    "# Column space of A is all linear combination of the columns\n",
    "# Does this space fill up all the 4 dimensional space? No"
   ]
  },
  {
   "cell_type": "code",
   "execution_count": 3775,
   "metadata": {
    "collapsed": true
   },
   "outputs": [],
   "source": [
    "# So when can we solve Ax=b?\n",
    "# where x is a column of three variables (x1,x2,x3)...\n",
    "#...and b is a column of four variables (b1,b2,b3)\n",
    "# Consider that column 3 of A is dependent on first two (sum of both)...\n",
    "#...Therefore it is not contributing much new"
   ]
  },
  {
   "cell_type": "code",
   "execution_count": 3776,
   "metadata": {
    "collapsed": false
   },
   "outputs": [
    {
     "name": "stdout",
     "output_type": "stream",
     "text": [
      "[[0]\n",
      " [0]\n",
      " [0]\n",
      " [0]]\n"
     ]
    }
   ],
   "source": [
    "# What is the nullspace of A?\n",
    "# It is all solutions to Ax=0 (it is in R^3)\n",
    "# What are some nullspaces for A above?\n",
    "# Here is an example:\n",
    "nulls=np.array([\n",
    "    [1],\n",
    "    [1],\n",
    "    [-1]\n",
    "])\n",
    "print(np.dot(A,nulls))\n",
    "# more generally here, anything with c, c and -c in the x column will generate nullspace\n",
    "# or else written as c*[[1],[1],[-1]]\n",
    "# so the nullspace is a line in R^3"
   ]
  },
  {
   "cell_type": "code",
   "execution_count": 3777,
   "metadata": {
    "collapsed": true
   },
   "outputs": [],
   "source": [
    "# Lecture 7: Solving Ax=0; Pivot Variables; Special Solutions\n",
    "A=np.array([\n",
    "    [1,2,2,2],\n",
    "    [2,4,6,8],\n",
    "    [3,6,8,10]\n",
    "])\n",
    "# Note that column 2 is not independent (is a multiple of column 1)\n",
    "# Note that row 3 is not independent (is sum of rows 1 and 2)"
   ]
  },
  {
   "cell_type": "code",
   "execution_count": 3778,
   "metadata": {
    "collapsed": true
   },
   "outputs": [],
   "source": [
    "# Reminder - what does elimination do?\n",
    "# It is like setting the left side equal to zero on the right, we just don't show that\n",
    "# We manipulate the equations but don't change the solution set or nullspace"
   ]
  },
  {
   "cell_type": "code",
   "execution_count": 3779,
   "metadata": {
    "collapsed": false
   },
   "outputs": [
    {
     "name": "stdout",
     "output_type": "stream",
     "text": [
      "[[ 1.  2.  2.  2.]\n",
      " [ 0.  0.  2.  4.]\n",
      " [ 0.  0.  2.  4.]]\n"
     ]
    }
   ],
   "source": [
    "# Let's clear out x for A\n",
    "Arow1=A[0]\n",
    "Arow2=A[1]\n",
    "Arow3=A[2]\n",
    "xrow2=Arow2-Arow1*(A[1,0]/A[0,0])\n",
    "xrow3=Arow3-Arow1*(A[2,0]/A[0,0])\n",
    "A2=np.array([\n",
    "    Arow1,\n",
    "    xrow2,\n",
    "    xrow3\n",
    "])\n",
    "print(A2)"
   ]
  },
  {
   "cell_type": "code",
   "execution_count": 3780,
   "metadata": {
    "collapsed": false
   },
   "outputs": [
    {
     "name": "stdout",
     "output_type": "stream",
     "text": [
      "[[ 1.  2.  2.  2.]\n",
      " [ 0.  0.  2.  4.]\n",
      " [ 0.  0.  0.  0.]]\n"
     ]
    }
   ],
   "source": [
    "# Let's clear out z for A (since y is fully zeroed out already)\n",
    "# oops - row 3 is zeroed out because it was overlapping another\n",
    "zrow3=xrow3-xrow2*(A2[2,2]/A2[1,2])\n",
    "U=np.array([\n",
    "    Arow1,\n",
    "    xrow2,\n",
    "    zrow3\n",
    "])\n",
    "print(U)"
   ]
  },
  {
   "cell_type": "code",
   "execution_count": 3781,
   "metadata": {
    "collapsed": false
   },
   "outputs": [
    {
     "name": "stdout",
     "output_type": "stream",
     "text": [
      "[[ 0.]\n",
      " [ 0.]\n",
      " [ 0.]]\n"
     ]
    }
   ],
   "source": [
    "#U above has 2 pivots; that number is called the rank\n",
    "# the others are \"free variables\"; so you have 2 pivots and 2 free\n",
    "# Let's solve for Ux=0\n",
    "# create a column of x's and fill in a one and a zero in the free variable columns\n",
    "# A solution for the above is \n",
    "x=np.array([\n",
    "    [-2],\n",
    "    [1],\n",
    "    [0],\n",
    "    [0]\n",
    "])\n",
    "# But you could also do a multiple of this, so any c*x above\n",
    "print(np.dot(U,x))"
   ]
  },
  {
   "cell_type": "code",
   "execution_count": 3782,
   "metadata": {
    "collapsed": false
   },
   "outputs": [
    {
     "name": "stdout",
     "output_type": "stream",
     "text": [
      "[[ 0.]\n",
      " [ 0.]\n",
      " [ 0.]]\n"
     ]
    }
   ],
   "source": [
    "# Let's generalize the approach\n",
    "# use a 1 and a 0 for the free variables, then solve for pivots\n",
    "# try the opposite combo of 0 and 1 as above and what works\n",
    "x2=np.array([\n",
    "    [2],\n",
    "    [0],\n",
    "    [-2],\n",
    "    [1]\n",
    "])\n",
    "print(np.dot(U,x2))"
   ]
  },
  {
   "cell_type": "code",
   "execution_count": 3783,
   "metadata": {
    "collapsed": false
   },
   "outputs": [
    {
     "name": "stdout",
     "output_type": "stream",
     "text": [
      "[[ 1.  2.  0. -2.]\n",
      " [ 0.  0.  1.  2.]\n",
      " [ 0.  0.  0.  0.]]\n"
     ]
    }
   ],
   "source": [
    "# we didn't fully reduce U to R\n",
    "# R is reduced echelon form where pivots are zero\n",
    "# get a zero above the z in row 1, and a 1 in the pivot for row 2\n",
    "\n",
    "zrow1=Arow1-xrow2\n",
    "zrow2=0.5*xrow2\n",
    "R=np.array([\n",
    "    zrow1,\n",
    "    zrow2,\n",
    "    zrow3\n",
    "])\n",
    "print(R)\n",
    "\n",
    "# Note matlab will find R with command rref (reduced row echelon form)\n",
    "# see how R has identity matrix for the pivot rows/cols [[1,0],[0,1]]"
   ]
  },
  {
   "cell_type": "code",
   "execution_count": 3784,
   "metadata": {
    "collapsed": true
   },
   "outputs": [],
   "source": [
    "# note the connection in the free cols above with the solutions prior\n",
    "# so you have 2 and 0 in one column; -2 and 2 in another\n",
    "# this is like what you found earlier to solve for Ux=0, EXCEPT...\n",
    "# signs are opposite because they are on other side of equation"
   ]
  },
  {
   "cell_type": "code",
   "execution_count": 3785,
   "metadata": {
    "collapsed": true
   },
   "outputs": [],
   "source": [
    "# what if you had R\n",
    "#R=np.array([\n",
    "#    [I,F],\n",
    "#    [0,0]\n",
    "#])\n",
    "# find RN=0; nullspace matrix\n",
    "# N=[[-F],[I]]"
   ]
  },
  {
   "cell_type": "code",
   "execution_count": 3786,
   "metadata": {
    "collapsed": false
   },
   "outputs": [],
   "source": [
    "# Take transpose of earlier matrix\n",
    "A=np.array([\n",
    "    [1,2,3],\n",
    "    [2,4,6],\n",
    "    [2,6,8],\n",
    "    [2,8,10]\n",
    "])\n",
    "# We can see straight away this will have two pivot columns and one free\n",
    "# This is because third column is dependent (is sum of cols 1 and 2)"
   ]
  },
  {
   "cell_type": "code",
   "execution_count": 3787,
   "metadata": {
    "collapsed": true
   },
   "outputs": [],
   "source": [
    "# Lecture 8: Solving Ax=b\n",
    "# Ax=b is solvable when b is in the column space of A (also written C(A))\n",
    "# If a combination of the rows of A gives a zero row...\n",
    "# The same combination of the entries of B must give zero"
   ]
  },
  {
   "cell_type": "code",
   "execution_count": 3788,
   "metadata": {
    "collapsed": true
   },
   "outputs": [],
   "source": [
    "# To find the complete solution to Ax=B...\n",
    "# Let's start with a single one\n",
    "# Step 1. set all free variables to zero\n",
    "# Step 2. solve Ax=b for the pivot variables\n",
    "# This lus the nullspace gives you the complete solution"
   ]
  },
  {
   "cell_type": "code",
   "execution_count": 3789,
   "metadata": {
    "collapsed": true
   },
   "outputs": [],
   "source": [
    "# m by n matrix A of rank r \n",
    "# we know (r<=m and r<=n)\n",
    "# What if your columns equal rank r=n, so no free variables\n",
    "# In this case, null space N(A) is only the zero vector (no free vars to give values to)\n",
    "# solution Ax=b is then just x particular (if it exists)\n",
    "# So only zero or one solutions (because may not exist)"
   ]
  },
  {
   "cell_type": "code",
   "execution_count": 3790,
   "metadata": {
    "collapsed": true
   },
   "outputs": [],
   "source": [
    "# Example with full column rank\n",
    "A=np.array([\n",
    "    [1,3],\n",
    "    [2,1],\n",
    "    [6,1],\n",
    "    [5,1]\n",
    "])\n",
    "# If right hand side was 4,3,7,6 you would have one solution (x and y both = 1) "
   ]
  },
  {
   "cell_type": "code",
   "execution_count": 3791,
   "metadata": {
    "collapsed": true
   },
   "outputs": [],
   "source": [
    "# Let's try an example with full row rank\n",
    "# Full row rank means r=m\n",
    "# In this case, can always solve Ax=b for every b\n",
    "# You may have free variables...left with n-r free variables\n",
    "# As an example, let's transpose the matrix above\n",
    "A=np.array([\n",
    "    [1,2,6,5],\n",
    "    [3,1,1,1]\n",
    "])\n",
    "# So the rank is 2; free vars are n-2 or 4-2 or 2\n",
    "# What will R (reduced row echelon) look like for this?\n",
    "# will have identity matrix on left 2 columns, the some F will be the right two\n",
    "# So you will have some null space here based on F"
   ]
  },
  {
   "cell_type": "code",
   "execution_count": 3792,
   "metadata": {
    "collapsed": true
   },
   "outputs": [],
   "source": [
    "# what if you have a square where r=m=n\n",
    "# R=I\n",
    "# No mull space (zero vector only)\n",
    "# For [square matrix]=[column of b's], there is a unique solution"
   ]
  },
  {
   "cell_type": "code",
   "execution_count": 3793,
   "metadata": {
    "collapsed": true
   },
   "outputs": [],
   "source": [
    "# So generalizing now:\n",
    "# For square r=m=n, R=I, 1 solution for Ax=b\n",
    "# For more rows than columns w/full column rank, r=n<m, R=[[I],[0]], zero or one solution for Ax=b\n",
    "# For more columns than rows w/full row rank r=m<n, R=[I F]...\n",
    "#...infinite solutions since always some null space\n",
    "# Then where r<m and r<n, R=[[I F], [0, 0]], zero or infinity solutions\n",
    "# So in conclusion, the rank tells you everything about the number of solutions\n"
   ]
  },
  {
   "cell_type": "code",
   "execution_count": 3794,
   "metadata": {
    "collapsed": true
   },
   "outputs": [],
   "source": [
    "# Lecture 9: Independence, basis and dimension\n",
    "# Suppose A is m by n with m<n...\n",
    "#...Then there will be nonzero solutions to Ax=o (more unknowns than equations)\n",
    "# Separately, Vectors x1, x2, x3, etc. are independent if no combination gives zero vector\n",
    "# If we have m<n, we will have some dependent (some combination gives zero vector)"
   ]
  },
  {
   "cell_type": "code",
   "execution_count": 3795,
   "metadata": {
    "collapsed": false
   },
   "outputs": [],
   "source": [
    "# Example - drawing vectors on a 2 dimensional plane\n",
    "A=np.array([\n",
    "    [2,1,2.5],\n",
    "    [1,2,-1]\n",
    "])\n",
    "# Note that the vectors are the columns...\n",
    "# So V1 vector one is 2,1\n",
    "# V2 vector two is 1,2\n",
    "# V3 is 2,-1"
   ]
  },
  {
   "cell_type": "code",
   "execution_count": 3796,
   "metadata": {
    "collapsed": true
   },
   "outputs": [],
   "source": [
    "# Repeat when v1, ...vn are columns of A...\n",
    "# They are independent if nullspace of A is only the zero vector\n",
    "# They are dependent if there's something else in there\n",
    "# So independent is when rank=number of columns (no free variables)\n",
    "# Depdendent is when rank<number of columns (you have free variables)"
   ]
  },
  {
   "cell_type": "code",
   "execution_count": null,
   "metadata": {
    "collapsed": true
   },
   "outputs": [],
   "source": []
  },
  {
   "cell_type": "code",
   "execution_count": 3797,
   "metadata": {
    "collapsed": true
   },
   "outputs": [],
   "source": [
    "# What does it mean for a bunch of vectors to span (S) a space?\n",
    "# So vectors v1....vL span a space means...\n",
    "#...the space consists of all combinations of those vectors"
   ]
  },
  {
   "cell_type": "code",
   "execution_count": 3798,
   "metadata": {
    "collapsed": true
   },
   "outputs": [],
   "source": [
    "# Basis for a vector space is a sequence of vectors v1, v2...vd...\n",
    "#...with two properties: They are independent and span the space"
   ]
  },
  {
   "cell_type": "code",
   "execution_count": 3799,
   "metadata": {
    "collapsed": true
   },
   "outputs": [],
   "source": [
    "# Example. Space is R3...\n",
    "# One basis is the identity matrix\n",
    "# Another example:\n",
    "A=np.array([\n",
    "    [1,2,3],\n",
    "    [2,2,3],\n",
    "    [3,5,8]\n",
    "])"
   ]
  },
  {
   "cell_type": "code",
   "execution_count": 3800,
   "metadata": {
    "collapsed": false
   },
   "outputs": [
    {
     "name": "stdout",
     "output_type": "stream",
     "text": [
      "A is  [[1 2 3]\n",
      " [2 2 3]\n",
      " [3 5 8]]\n",
      "B is  [[ 2]\n",
      " [ 9]\n",
      " [50]]\n",
      "Solution for x y z is [[   7.]\n",
      " [-127.]\n",
      " [  83.]]\n"
     ]
    }
   ],
   "source": [
    "# On my own - want to test the numpy solution for linear equations\n",
    "# Found formula which is numpy.linalg.solve (a,b)...\n",
    "# ...where a is the matrix of coefficients\n",
    "#...and b is the dependent variable column on the right\n",
    "# Let's try array above but add some b's to the end\n",
    "print(\"A is \",A)\n",
    "B=np.array([\n",
    "    [2],\n",
    "    [9],\n",
    "    [50]\n",
    "])\n",
    "print(\"B is \",B)\n",
    "C=np.linalg.solve(A,B)\n",
    "print(\"Solution for x y z is\",C)"
   ]
  },
  {
   "cell_type": "code",
   "execution_count": 3801,
   "metadata": {
    "collapsed": true
   },
   "outputs": [],
   "source": [
    "# Rn vectors give basis for the nxn matris with these columns is invertible\n",
    "# Every basis for the space has the same number of vector...\n",
    "# This number is the DIMENSION of the space"
   ]
  },
  {
   "cell_type": "code",
   "execution_count": 3802,
   "metadata": {
    "collapsed": false
   },
   "outputs": [
    {
     "name": "stdout",
     "output_type": "stream",
     "text": [
      "[[0]\n",
      " [0]\n",
      " [0]]\n",
      "[[0]\n",
      " [0]\n",
      " [0]]\n"
     ]
    }
   ],
   "source": [
    "# Example where column space of A is C(A)\n",
    "# Think the idea here is first three columns are like the coefficients of variables\n",
    "A=np.array([\n",
    "    [1,2,3,1],\n",
    "    [1,1,2,1],\n",
    "    [1,2,3,1]\n",
    "])\n",
    "# Since third column is sum of first two, an example of the null solution is\n",
    "N1=np.array([\n",
    "    [-1],\n",
    "    [-1],\n",
    "    [1],\n",
    "    [0]\n",
    "])\n",
    "print (np.dot(A,N1))\n",
    "N2=np.array([\n",
    "    [-1],\n",
    "    [0],\n",
    "    [0],\n",
    "    [1]\n",
    "])\n",
    "print(np.dot(A,N2))"
   ]
  },
  {
   "cell_type": "code",
   "execution_count": 3803,
   "metadata": {
    "collapsed": true
   },
   "outputs": [],
   "source": [
    "# Continuing with the example, the rank is 2...\n",
    "# rank(A)= number of pivot columns = the dimension of its column space C(A)\n",
    "# And the basis is well any number of possibilities within the column space\n",
    "# Once basis for C(A) here is 7,5,7 (the sum of the columns)\n",
    "# The dimension of the null space is the number of free variables\n",
    "# We know n-r=free variables which is dimension of the null space"
   ]
  },
  {
   "cell_type": "code",
   "execution_count": null,
   "metadata": {
    "collapsed": true
   },
   "outputs": [],
   "source": [
    "# Four sub-spaces, where A is mxn\n",
    "# columnspace C(A) - is in R^m\n",
    "# nullspace N(A) - is R^n\n",
    "# rowspace - all combinations of rows - we like using col vectors better...\n",
    "# so this also equals all combs of columns of A transpose (A^T)\n",
    "# null space of A transpose N(A^T), or the \"left nullspace\""
   ]
  }
 ],
 "metadata": {
  "kernelspec": {
   "display_name": "Python 3",
   "language": "python",
   "name": "python3"
  },
  "language_info": {
   "codemirror_mode": {
    "name": "ipython",
    "version": 3
   },
   "file_extension": ".py",
   "mimetype": "text/x-python",
   "name": "python",
   "nbconvert_exporter": "python",
   "pygments_lexer": "ipython3",
   "version": "3.6.0"
  }
 },
 "nbformat": 4,
 "nbformat_minor": 2
}
